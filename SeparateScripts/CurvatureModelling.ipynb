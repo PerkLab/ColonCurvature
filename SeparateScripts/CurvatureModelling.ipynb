{
 "cells": [
  {
   "cell_type": "code",
   "execution_count": 41,
   "metadata": {},
   "outputs": [
    {
     "data": {
      "text/plain": []
     },
     "execution_count": 41,
     "metadata": {},
     "output_type": "execute_result"
    }
   ],
   "source": [
    "#use the curve maker module to get curve data\n",
    "import CurveMaker\n",
    "\n",
    "slicer.util.loadModel(\"D:\\ColonCurves_JL\\CtVolumes\\PTBG0026\\PTBG0026_SupCurve.vtk\")\n",
    "\n",
    "CurveMaker.CurveMakerLogic()\n",
    "curvatureArray = vtk.vtkDoubleArray()\n",
    "n = slicer.util.getFirstNodeByName('PTBG0026_SupCurve')\n",
    "\n",
    "polyData = n.GetPolyData()\n",
    "\n",
    "avgCurve, minCurve, maxCurve = CurveMaker.CurveMakerLogic().computeCurvatures( polyData, curvatureArray )\n",
    "\n",
    "polyData.GetPointData().AddArray(curvatureArray)\n",
    "nd = n.GetDisplayNode()\n",
    "\n",
    "nd.SetActiveScalarName('Curvature')\n",
    "\n"
   ]
  },
  {
   "cell_type": "code",
   "execution_count": 9,
   "metadata": {},
   "outputs": [
    {
     "data": {
      "text/plain": []
     },
     "execution_count": 9,
     "metadata": {},
     "output_type": "execute_result"
    }
   ],
   "source": [
    "#get data from array to list\n",
    "curvatureList = []\n",
    "for x in range(curvatureArray.GetNumberOfTuples()):\n",
    "    curvatureList.append(curvatureArray.GetTuple1(x))"
   ]
  },
  {
   "cell_type": "code",
   "execution_count": 16,
   "metadata": {},
   "outputs": [
    {
     "data": {
      "text/plain": []
     },
     "execution_count": 16,
     "metadata": {},
     "output_type": "execute_result"
    }
   ],
   "source": [
    "#output the curvatureList to file\n",
    "stringCurvatureList = [str(x)+\"\\n\" for x in curvatureList]\n",
    "stringCurvatureList.append(\"\\n\")\n",
    "outFile = open(\"D:\\ColonCurves_JL\\CtVolumes\\PTBG0026\\PTBG0026_Curvatures.txt\", 'w')\n",
    "outFile.writelines(stringCurvatureList)"
   ]
  },
  {
   "cell_type": "code",
   "execution_count": 37,
   "metadata": {},
   "outputs": [
    {
     "data": {
      "text/plain": []
     },
     "execution_count": 37,
     "metadata": {},
     "output_type": "execute_result"
    }
   ],
   "source": [
    "#a function to open a vtk curve in slicer, use curvemaker to find curvatures, and save them to text files\n",
    "def CurveFileToCurvaturesFile(inPath):\n",
    "    \n",
    "    [success, n] = slicer.util.loadModel(inPath, returnNode = True)\n",
    "    #print(n)\n",
    "    #n = slicer.util.getFirstNodeByName(inPath[-17:])\n",
    "    polyData = n.GetPolyData()\n",
    "    import CurveMaker\n",
    "    CurveMaker.CurveMakerLogic()\n",
    "    curvatureArray = vtk.vtkDoubleArray()\n",
    "    #print(polyData)\n",
    "    avgCurve, minCurve, maxCurve = CurveMaker.CurveMakerLogic().computeCurvatures( polyData, curvatureArray )\n",
    "\n",
    "    polyData.GetPointData().AddArray(curvatureArray)\n",
    "    nd = n.GetDisplayNode()\n",
    "\n",
    "    nd.SetActiveScalarName('Curvature')\n",
    "    nd.SetScalarVisibility(1)\n",
    "    \n",
    "    curvatureList = [curvatureArray.GetTuple1(x) for x in range(curvatureArray.GetNumberOfTuples())]\n",
    "    stringCurvatureList = [str(x)+\"\\n\" for x in curvatureList]\n",
    "    stringCurvatureList.append(\"\\n\")\n",
    "    \n",
    "    outPath = inPath[:-9] + \"Curvatures.txt\"\n",
    "    print(outPath)\n",
    "    outFile = open(outPath, 'w')\n",
    "    outFile.writelines(stringCurvatureList)\n",
    "    outFile.close()\n",
    "    \n",
    "    slicer.util.saveNode(n, inPath)\n",
    "    \n",
    "    \n",
    "    "
   ]
  },
  {
   "cell_type": "code",
   "execution_count": 38,
   "metadata": {},
   "outputs": [
    {
     "data": {
      "text/plain": [
       "D:\\ColonCurves_JL\\CtVolumes\\PTBG0026\\PTBG0026_SupCurvatures.txt\n"
      ]
     },
     "execution_count": 38,
     "metadata": {},
     "output_type": "execute_result"
    }
   ],
   "source": [
    "#run the function on a file\n",
    "slicer.mrmlScene.Clear(0)\n",
    "CurveFileToCurvaturesFile(\"D:\\ColonCurves_JL\\CtVolumes\\PTBG0026\\PTBG0026_SupCurve.vtk\")"
   ]
  },
  {
   "cell_type": "code",
   "execution_count": 39,
   "metadata": {},
   "outputs": [
    {
     "data": {
      "text/plain": [
       "D:\\ColonCurves_JL\\CtVolumes\\PTAF0056\\PTAF0056_SupCurvatures.txt\n",
       "D:\\ColonCurves_JL\\CtVolumes\\PTAF0056\\PTAF0056_ProCurvatures.txt\n",
       "D:\\ColonCurves_JL\\CtVolumes\\PTAJ0023\\PTAJ0023_SupCurvatures.txt\n",
       "D:\\ColonCurves_JL\\CtVolumes\\PTAJ0023\\PTAJ0023_ProCurvatures.txt\n",
       "Failed supine curvatures! D:\\ColonCurves_JL\\CtVolumes\\PTAJ0095\\PTAJ0095_SupCurve.vtk\n",
       "D:\\ColonCurves_JL\\CtVolumes\\PTAJ0095\\PTAJ0095_ProCurvatures.txt\n",
       "Failed supine curvatures! D:\\ColonCurves_JL\\CtVolumes\\PTAM0029\\PTAM0029_SupCurve.vtk\n",
       "D:\\ColonCurves_JL\\CtVolumes\\PTAM0029\\PTAM0029_ProCurvatures.txt\n",
       "D:\\ColonCurves_JL\\CtVolumes\\PTAP0049\\PTAP0049_SupCurvatures.txt\n",
       "D:\\ColonCurves_JL\\CtVolumes\\PTAP0049\\PTAP0049_ProCurvatures.txt\n",
       "D:\\ColonCurves_JL\\CtVolumes\\PTAT0093\\PTAT0093_SupCurvatures.txt\n",
       "D:\\ColonCurves_JL\\CtVolumes\\PTAT0093\\PTAT0093_ProCurvatures.txt\n",
       "D:\\ColonCurves_JL\\CtVolumes\\PTBB0002\\PTBB0002_SupCurvatures.txt\n",
       "D:\\ColonCurves_JL\\CtVolumes\\PTBB0002\\PTBB0002_ProCurvatures.txt\n",
       "D:\\ColonCurves_JL\\CtVolumes\\PTBB0024\\PTBB0024_SupCurvatures.txt\n",
       "D:\\ColonCurves_JL\\CtVolumes\\PTBB0024\\PTBB0024_ProCurvatures.txt\n",
       "D:\\ColonCurves_JL\\CtVolumes\\PTBC0016\\PTBC0016_SupCurvatures.txt\n",
       "Failed prone curvatures! D:\\ColonCurves_JL\\CtVolumes\\PTBC0016\\PTBC0016_ProCurve.vtk\n",
       "D:\\ColonCurves_JL\\CtVolumes\\PTBC0017\\PTBC0017_SupCurvatures.txt\n",
       "D:\\ColonCurves_JL\\CtVolumes\\PTBC0017\\PTBC0017_ProCurvatures.txt\n",
       "D:\\ColonCurves_JL\\CtVolumes\\PTBD0033\\PTBD0033_SupCurvatures.txt\n",
       "D:\\ColonCurves_JL\\CtVolumes\\PTBD0033\\PTBD0033_ProCurvatures.txt\n",
       "D:\\ColonCurves_JL\\CtVolumes\\PTBG0026\\PTBG0026_SupCurvatures.txt\n",
       "D:\\ColonCurves_JL\\CtVolumes\\PTBG0026\\PTBG0026_ProCurvatures.txt\n"
      ]
     },
     "execution_count": 39,
     "metadata": {},
     "output_type": "execute_result"
    }
   ],
   "source": [
    "#process all the curve files\n",
    "\n",
    "direc = \"D:\\ColonCurves_JL\\CtVolumes\\\\\"\n",
    "idList = ['PTAF0056','PTAJ0023', 'PTAJ0095', 'PTAM0029', 'PTAP0049', 'PTAT0093', 'PTBB0002', 'PTBB0024', 'PTBC0016', 'PTBC0017', 'PTBD0033', 'PTBG0026' ]\n",
    "#idList = ['PTAF0056']\n",
    "for x in idList:\n",
    "    slicer.mrmlScene.Clear(0)\n",
    "    supPath = direc + x + \"\\\\\" + x + \"_SupCurve.vtk\"\n",
    "    proPath = direc + x + \"\\\\\" + x + \"_ProCurve.vtk\"\n",
    "    \n",
    "    try:\n",
    "        CurveFileToCurvaturesFile(supPath)\n",
    "    except:\n",
    "        print('Failed supine curvatures! ' + supPath)\n",
    "    try:\n",
    "        CurveFileToCurvaturesFile(proPath)\n",
    "    except:\n",
    "        print('Failed prone curvatures! ' + proPath)"
   ]
  },
  {
   "cell_type": "code",
   "execution_count": null,
   "metadata": {},
   "outputs": [],
   "source": []
  }
 ],
 "metadata": {
  "kernelspec": {
   "display_name": "Slicer 4.9",
   "language": "python",
   "name": "slicer-4.9"
  },
  "language_info": {
   "codemirror_mode": {
    "name": "ipython",
    "version": 3
   },
   "file_extension": ".py",
   "mimetype": "text/x-python",
   "name": "python",
   "nbconvert_exporter": "python",
   "pygments_lexer": "ipython3",
   "version": "2.7.13+"
  }
 },
 "nbformat": 4,
 "nbformat_minor": 2
}
