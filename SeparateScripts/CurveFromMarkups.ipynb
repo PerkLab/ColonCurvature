{
 "cells": [
  {
   "cell_type": "code",
   "execution_count": 8,
   "metadata": {},
   "outputs": [
    {
     "data": {
      "text/plain": []
     },
     "execution_count": 8,
     "metadata": {},
     "output_type": "execute_result"
    }
   ],
   "source": [
    "#function to return a curve model from fiducial list node\n",
    "def doMarkupsToModel(markups):\n",
    "    markupsToModelNode = slicer.vtkMRMLMarkupsToModelNode()\n",
    "    markupsToModelNode.SetName('MyMarkupsToModelNode')\n",
    "    slicer.mrmlScene.AddNode(markupsToModelNode)\n",
    "\n",
    "    markupsToModelNode.SetAndObserveInputNodeID(markups.GetID())\n",
    "\n",
    "    outputCurve = slicer.vtkMRMLModelNode()\n",
    "    slicer.mrmlScene.AddNode(outputCurve)\n",
    "    outputCurve.SetName(markups.GetName()[:-17]+'Curve')\n",
    "\n",
    "    markupsToModelNode.SetAndObserveModelNodeID(outputCurve.GetID())\n",
    "    markupsToModelNode.SetModelType(1)\n",
    "    markupsToModelNode.SetModelType(1)\n",
    "    markupsToModelNode.SetCurveType(3)\n",
    "    markupsToModelNode.SetPolynomialFitType(1)\n",
    "    markupsToModelNode.SetPolynomialOrder(2)\n",
    "    markupsToModelNode.SetPolynomialSampleWidth(0.05)\n",
    "    markupsToModelNode.SetTubeRadius(0)\n",
    "    \n",
    "    return outputCurve"
   ]
  },
  {
   "cell_type": "code",
   "execution_count": 5,
   "metadata": {},
   "outputs": [
    {
     "data": {
      "text/plain": []
     },
     "execution_count": 5,
     "metadata": {},
     "output_type": "execute_result"
    }
   ],
   "source": [
    "slicer.mrmlScene.Clear(0)"
   ]
  },
  {
   "cell_type": "code",
   "execution_count": 9,
   "metadata": {},
   "outputs": [
    {
     "data": {
      "text/plain": []
     },
     "execution_count": 9,
     "metadata": {},
     "output_type": "execute_result"
    }
   ],
   "source": [
    "#function to apply curve gen to file path, output to new file in same directory\n",
    "def MarkupFileToModelFile(inPath):\n",
    "    outPath = inPath[:-17]+'Curve.vtk'\n",
    "    print(outPath)\n",
    "    [success, markups] = slicer.util.loadMarkupsFiducialList(inPath, returnNode=True)\n",
    "    slicer.util.saveNode(doMarkupsToModel(markups), outPath)\n",
    "    \n",
    "    "
   ]
  },
  {
   "cell_type": "code",
   "execution_count": 10,
   "metadata": {},
   "outputs": [
    {
     "data": {
      "text/plain": [
       "D:\\ColonCurves_JL\\CtVolumes\\PTBG0026\\PTBG0026_SupCurve.vtk\n"
      ]
     },
     "execution_count": 10,
     "metadata": {},
     "output_type": "execute_result"
    }
   ],
   "source": [
    "#choose individual file\n",
    "MarkupFileToModelFile(\"D:\\ColonCurves_JL\\CtVolumes\\PTBG0026\\PTBG0026_SupCenterPoints.fcsv\")"
   ]
  },
  {
   "cell_type": "code",
   "execution_count": 35,
   "metadata": {},
   "outputs": [
    {
     "data": {
      "text/plain": [
       "Failed supine curve! D:\\ColonCurves_JL\\CtVolumes\\PTAJ0095\\PTAJ0095_SupCenterPoints.fcsv\n",
       "Failed supine curve! D:\\ColonCurves_JL\\CtVolumes\\PTAM0029\\PTAM0029_SupCenterPoints.fcsv\n",
       "Failed prone curve! D:\\ColonCurves_JL\\CtVolumes\\PTBC0016\\PTBC0016_ProCenterPoints.fcsv\n"
      ]
     },
     "execution_count": 35,
     "metadata": {},
     "output_type": "execute_result"
    }
   ],
   "source": [
    "#Iterate through a list of patients in a directory and save supine and prone curves\n",
    "\n",
    "direc = \"D:\\ColonCurves_JL\\CtVolumes\\\\\"\n",
    "idList = ['PTAF0056','PTAJ0023', 'PTAJ0095', 'PTAM0029', 'PTAP0049', 'PTAT0093', 'PTBB0002', 'PTBB0024', 'PTBC0016', 'PTBC0017', 'PTBD0033', 'PTBG0026' ]\n",
    "#idList = ['PTAF0056']\n",
    "for x in idList:\n",
    "    slicer.mrmlScene.Clear(0)\n",
    "    supPath = direc + x + \"\\\\\" + x + \"_SupCenterPoints.fcsv\"\n",
    "    proPath = direc + x + \"\\\\\" + x + \"_ProCenterPoints.fcsv\"\n",
    "    \n",
    "    try:\n",
    "        MarkupFileToModelFile(supPath)\n",
    "    except:\n",
    "        print('Failed supine curve! ' + supPath)\n",
    "    try:\n",
    "        MarkupFileToModelFile(proPath)\n",
    "    except:\n",
    "        print('Failed prone curve! ' + proPath)\n",
    "\n"
   ]
  }
 ],
 "metadata": {
  "kernelspec": {
   "display_name": "Slicer 4.9",
   "language": "python",
   "name": "slicer-4.9"
  },
  "language_info": {
   "codemirror_mode": {
    "name": "ipython",
    "version": 3
   },
   "file_extension": ".py",
   "mimetype": "text/x-python",
   "name": "python",
   "nbconvert_exporter": "python",
   "pygments_lexer": "ipython3",
   "version": "2.7.13+"
  }
 },
 "nbformat": 4,
 "nbformat_minor": 2
}
